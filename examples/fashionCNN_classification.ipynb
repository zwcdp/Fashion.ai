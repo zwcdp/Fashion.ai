{
  "nbformat": 4,
  "nbformat_minor": 0,
  "metadata": {
    "colab": {
      "name": "FashionClassification.ipynb",
      "version": "0.3.2",
      "provenance": []
    },
    "kernelspec": {
      "name": "python3",
      "display_name": "Python 3"
    },
    "accelerator": "GPU"
  },
  "cells": [
    {
      "metadata": {
        "id": "QFPZB5Wf-m8x",
        "colab_type": "code",
        "colab": {}
      },
      "cell_type": "code",
      "source": [
        "from IPython.display import clear_output\n",
        "from IPython.display import display\n",
        "from google.colab import widgets"
      ],
      "execution_count": 0,
      "outputs": []
    },
    {
      "metadata": {
        "id": "2uQ76SAN-sxM",
        "colab_type": "code",
        "colab": {}
      },
      "cell_type": "code",
      "source": [
        "! pip install torch torchvision\n",
        "clear_output()"
      ],
      "execution_count": 0,
      "outputs": []
    },
    {
      "metadata": {
        "id": "Q27TKtSn-uiK",
        "colab_type": "code",
        "colab": {
          "base_uri": "https://localhost:8080/",
          "height": 34
        },
        "outputId": "5a22999b-179f-4add-8d86-5a91c0f581f6"
      },
      "cell_type": "code",
      "source": [
        "import torch\n",
        "import torchvision\n",
        "import torch.nn as nn\n",
        "import torch.nn.functional as F\n",
        "import numpy as np\n",
        "from tqdm import tqdm\n",
        "import matplotlib.pyplot as plt\n",
        "from mpl_toolkits.mplot3d.axes3d import Axes3D\n",
        "\n",
        "palettes = [\n",
        "    '#D870AD', '#B377D9', '#7277D5', \n",
        "    '#4B8CDC', '#3BB1D9', '#3BBEB0', \n",
        "    '#3BB85D', '#82C250', '#B0C151', \n",
        "    '#F5BA42', '#F59B43', '#E7663F', \n",
        "    '#D94C42']\n",
        "cc_ = np.array(palettes)\n",
        "\n",
        "\n",
        "device = torch.device(\"cuda\" if torch.cuda.is_available() else \"cpu\")\n",
        "print(device, torch.__version__)"
      ],
      "execution_count": 3,
      "outputs": [
        {
          "output_type": "stream",
          "text": [
            "cuda 1.0.0\n"
          ],
          "name": "stdout"
        }
      ]
    },
    {
      "metadata": {
        "id": "MXBtYoG5-wOT",
        "colab_type": "code",
        "colab": {}
      },
      "cell_type": "code",
      "source": [
        "def conv_down_size(size, kernel_size, stride, padding):\n",
        "    return (size - kernel_size +2*padding)/stride + 1"
      ],
      "execution_count": 0,
      "outputs": []
    },
    {
      "metadata": {
        "id": "DXzJnmDl-yav",
        "colab_type": "code",
        "colab": {
          "base_uri": "https://localhost:8080/",
          "height": 136
        },
        "outputId": "8f84c3d1-06a6-46a4-81a0-ebc7ea613e78"
      },
      "cell_type": "code",
      "source": [
        "size = 28\n",
        "size = conv_down_size(size, 3, 1, 0)\n",
        "print(size)\n",
        "size = conv_down_size(size, 3, 1, 1)\n",
        "print(size)\n",
        "size = conv_down_size(size, 2, 2, 1)\n",
        "print(size, size**2*8)\n",
        "size = conv_down_size(size, 3, 1, 0)\n",
        "print(size)\n",
        "size = conv_down_size(size, 2, 2, 0)\n",
        "print(size, size**2*8*2)\n",
        "size = conv_down_size(size, 3, 1, 0)\n",
        "print(size)\n",
        "size = conv_down_size(size, 2, 2, 0)\n",
        "print(size, size**2*8*4)\n",
        "# size = conv_down_size(size, 3, 1, 0)\n",
        "# print(size)\n",
        "# size = conv_down_size(size, 2, 2, 1)\n",
        "# print(size)"
      ],
      "execution_count": 7,
      "outputs": [
        {
          "output_type": "stream",
          "text": [
            "26.0\n",
            "26.0\n",
            "14.0 1568.0\n",
            "12.0\n",
            "6.0 576.0\n",
            "4.0\n",
            "2.0 128.0\n"
          ],
          "name": "stdout"
        }
      ]
    },
    {
      "metadata": {
        "id": "98PAL6PL-z0k",
        "colab_type": "code",
        "colab": {}
      },
      "cell_type": "code",
      "source": [
        "train_data = torchvision.datasets.FashionMNIST(\"fashion\", train=True,\n",
        "                                        transform=torchvision.transforms.ToTensor(),\n",
        "                                        download=True\n",
        "                                       )\n",
        "test_data = torchvision.datasets.FashionMNIST(\"fashion\", train=False,\n",
        "                                        transform=torchvision.transforms.ToTensor(),\n",
        "                                        download=True\n",
        "                                       )\n",
        "train_loader = torch.utils.data.DataLoader(train_data, batch_size=25,\n",
        "                                           shuffle=True\n",
        "                                          )\n",
        "test_loader = torch.utils.data.DataLoader(test_data, batch_size=25,\n",
        "                                           shuffle=True\n",
        "                                          )\n",
        "clear_output()"
      ],
      "execution_count": 0,
      "outputs": []
    },
    {
      "metadata": {
        "id": "pIpoJ4IS-4jR",
        "colab_type": "code",
        "colab": {}
      },
      "cell_type": "code",
      "source": [
        "cat2name = {0: \"T-Shirt\", 1: \"Trouser\", 2: \"Pullover\", \n",
        "           3: \"Dress\", 4: \"Coat\", 5: \"Sandals\", 6: \"Shirt\",\n",
        "           7: \"Sneaker\", 8: \"Bag\", 9: \"Boots\"}"
      ],
      "execution_count": 0,
      "outputs": []
    },
    {
      "metadata": {
        "id": "fmTVXRNo-6qa",
        "colab_type": "code",
        "colab": {}
      },
      "cell_type": "code",
      "source": [
        "class ConvNet(nn.Module):\n",
        "    \"\"\"\n",
        "    Convolution Net that classifies MNIST images\n",
        "    \"\"\"\n",
        "    def __init__(self, dim_hid=8, dim_embed=50, n_class=10):\n",
        "        super(ConvNet, self).__init__()\n",
        "        self.conv0 = nn.Sequential(\n",
        "            nn.Conv2d(1, dim_hid, 3,1,0),\n",
        "            nn.BatchNorm2d(dim_hid),\n",
        "            nn.ReLU(),\n",
        "            nn.Conv2d(dim_hid, dim_hid, 3,1,1),\n",
        "            nn.BatchNorm2d(dim_hid),\n",
        "            nn.ReLU(),\n",
        "            nn.MaxPool2d(2,2,1)\n",
        "        )\n",
        "        self.conv1 = nn.Sequential(\n",
        "            nn.Conv2d(dim_hid, 2*dim_hid, 3,1,0),\n",
        "            nn.BatchNorm2d(2*dim_hid),\n",
        "            nn.ReLU(),\n",
        "            nn.Conv2d(2*dim_hid, 2*dim_hid, 3,1,1),\n",
        "            nn.BatchNorm2d(2*dim_hid),\n",
        "            nn.ReLU(),\n",
        "            nn.MaxPool2d(2,2,0)\n",
        "        )\n",
        "        self.conv2 = nn.Sequential(\n",
        "            nn.Conv2d(2*dim_hid, 4*dim_hid, 3,1,0),\n",
        "            nn.BatchNorm2d(4*dim_hid),\n",
        "            nn.ReLU(),\n",
        "            nn.Conv2d(4*dim_hid, 4*dim_hid, 3,1,1),\n",
        "            nn.BatchNorm2d(4*dim_hid),\n",
        "            nn.ReLU(),\n",
        "            nn.MaxPool2d(2,2,0)\n",
        "        )\n",
        "        \n",
        "        self.out = nn.Sequential(\n",
        "            nn.Linear(2*2*4*dim_hid, dim_embed*8),\n",
        "            nn.LeakyReLU(),\n",
        "            nn.Linear(dim_embed*8, dim_embed*4),\n",
        "            nn.LeakyReLU(),\n",
        "            nn.Linear(dim_embed*4, dim_embed),\n",
        "            nn.LeakyReLU(), \n",
        "            nn.Linear(dim_embed, n_class)\n",
        "        )\n",
        "        \n",
        "    def forward(self, img):\n",
        "        \n",
        "        out = self.conv0(img)\n",
        "        out = self.conv1(out)\n",
        "        out = self.conv2(out)\n",
        "        batch_size, _, _, _ = out.size()\n",
        "\n",
        "        out = out.view(batch_size, -1)\n",
        "\n",
        "        out = self.out(out)\n",
        "        \n",
        "        return out"
      ],
      "execution_count": 0,
      "outputs": []
    },
    {
      "metadata": {
        "id": "Yp4BXTPO_2Og",
        "colab_type": "code",
        "colab": {}
      },
      "cell_type": "code",
      "source": [
        "model = ConvNet().to(device)\n",
        "x_entropy = nn.CrossEntropyLoss().to(device)\n",
        "optimizer = torch.optim.Adam(model.parameters(), lr=1e-3)"
      ],
      "execution_count": 0,
      "outputs": []
    },
    {
      "metadata": {
        "id": "RCIPZyC5_960",
        "colab_type": "code",
        "colab": {
          "base_uri": "https://localhost:8080/",
          "height": 347
        },
        "outputId": "746a8637-4c02-4740-a343-7d3088cfe465"
      },
      "cell_type": "code",
      "source": [
        "n_epoch = 25\n",
        "loss_ = {\"xentropy\": [], \"total\": []}\n",
        "# w_reg = 0.1\n",
        "model.train()\n",
        "# nn.utils.clip_grad_value_(model.parameters(), clip_value=10)\n",
        "for edx in range(n_epoch):\n",
        "    \n",
        "    for bdx, (xdata, ydata) in enumerate(train_loader):\n",
        "        \n",
        "        xdata = xdata.to(device)\n",
        "        ydata = ydata.to(device)\n",
        "        \n",
        "        \n",
        "        logit = model(xdata)\n",
        "        \n",
        "        \n",
        "        xentropy = x_entropy(logit, ydata)\n",
        "        \n",
        "        loss = xentropy\n",
        "        \n",
        "        loss_[\"xentropy\"].append(xentropy.item())\n",
        "        loss_[\"total\"].append(loss.item())     \n",
        "        optimizer.zero_grad()\n",
        "        \n",
        "        loss.backward()\n",
        "        optimizer.step()\n",
        "        \n",
        "        if (bdx+1) % 5 == 0:\n",
        "            #clear_output(wait=True)\n",
        "            print(\n",
        "                \"#{:3d}: {:.1f}% loss={:.2f}, dloss={:.2f}%\".format(\n",
        "                    edx+1, 100*(bdx+1)/len(train_loader), loss_[\"total\"][-1], \n",
        "                    (loss_[\"total\"][-1]-loss_[\"total\"][-5])/loss_[\"total\"][-5]*100)\n",
        "                )\n",
        "    display(plt.gcf())\n",
        "    clear_output(wait=True)\n",
        "    plt.plot(np.array(loss_[\"total\"]), label=\"total\", alpha=0.2)\n",
        "    #plt.semilogy(np.array(loss_[\"xentropy\"]), label=\"cross entropy\", alpha=0.2)\n",
        "    \n",
        "    plt.legend(loc=0)\n",
        "    plt.show()"
      ],
      "execution_count": 32,
      "outputs": [
        {
          "output_type": "display_data",
          "data": {
            "image/png": "[encoded data removed]",
            "text/plain": [
              "<matplotlib.figure.Figure at 0x7f6ea6117940>"
            ]
          },
          "metadata": {
            "tags": []
          }
        }
      ]
    },
    {
      "metadata": {
        "id": "K8WwOyGrASTk",
        "colab_type": "code",
        "colab": {}
      },
      "cell_type": "code",
      "source": [
        "def get_acc(model, loader):\n",
        "    model.eval()\n",
        "    correct = 0\n",
        "    total = 0\n",
        "    \n",
        "    for (x, y) in loader:\n",
        "        x = x.to(device)\n",
        "        y = y.to(device)\n",
        "        logit = model(x)\n",
        "        _, predict = logit.max(dim=1)\n",
        "        predict = predict.detach()\n",
        "        correct += (predict==y).sum().item()\n",
        "        total += y.size()[0]\n",
        "        \n",
        "    return correct, total, correct/total"
      ],
      "execution_count": 0,
      "outputs": []
    },
    {
      "metadata": {
        "id": "lUD8C2PwAgNB",
        "colab_type": "code",
        "colab": {
          "base_uri": "https://localhost:8080/",
          "height": 34
        },
        "outputId": "e8147f5e-c2ea-4036-8ac3-0e1ad21ea81a"
      },
      "cell_type": "code",
      "source": [
        "get_acc(model, train_loader)"
      ],
      "execution_count": 34,
      "outputs": [
        {
          "output_type": "execute_result",
          "data": {
            "text/plain": [
              "(58220, 60000, 0.9703333333333334)"
            ]
          },
          "metadata": {
            "tags": []
          },
          "execution_count": 34
        }
      ]
    },
    {
      "metadata": {
        "id": "2mrLymPGAg6K",
        "colab_type": "code",
        "colab": {
          "base_uri": "https://localhost:8080/",
          "height": 34
        },
        "outputId": "91b4fae9-67c3-462a-ac6a-822a318c71df"
      },
      "cell_type": "code",
      "source": [
        "get_acc(model, test_loader)"
      ],
      "execution_count": 35,
      "outputs": [
        {
          "output_type": "execute_result",
          "data": {
            "text/plain": [
              "(9174, 10000, 0.9174)"
            ]
          },
          "metadata": {
            "tags": []
          },
          "execution_count": 35
        }
      ]
    },
    {
      "metadata": {
        "id": "TgUY2Go7AiIv",
        "colab_type": "code",
        "colab": {}
      },
      "cell_type": "code",
      "source": [
        "torch.save(model.state_dict(), \"fashionCNN.weight\")"
      ],
      "execution_count": 0,
      "outputs": []
    },
    {
      "metadata": {
        "id": "i4-nMpY8ayHg",
        "colab_type": "code",
        "colab": {}
      },
      "cell_type": "code",
      "source": [
        ""
      ],
      "execution_count": 0,
      "outputs": []
    }
  ]
}